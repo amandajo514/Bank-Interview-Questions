{
 "cells": [
  {
   "cell_type": "markdown",
   "id": "d73cec96-ddd5-4c2d-bb80-5095d092a064",
   "metadata": {},
   "source": [
    "# CNB Bank"
   ]
  },
  {
   "cell_type": "markdown",
   "id": "ed29d4cd-1f92-46c8-abf4-9fa15d3b2c07",
   "metadata": {},
   "source": [
    "----\n",
    "\n",
    "**Pre-Hire problem solving** \n",
    "You may use any coding language you are comfortable with. Please provide the code and any supporting  documentation you feel necessary. You may format your submission in a document or via email. \n",
    "\n",
    "----\n"
   ]
  },
  {
   "cell_type": "markdown",
   "id": "aea78a60-c707-4d3a-916f-8216fd55bea7",
   "metadata": {},
   "source": [
    "2.Reporting  \n",
    "\n",
    "Report Requirements: \n",
    "\n",
    "1. Report Layout: Design a report displaying sales information with the following columns: \n",
    "• Sale ID \n",
    "• Sale Date \n",
    "• Product Name \n",
    "• Quantity Sold \n",
    "• Amount \n",
    "\n",
    "2. Grouping and Aggregation: Include a summary section in the report displaying: \n",
    "• Total sales amount for the selected date range and product category. \n",
    "• Highest and lowest selling products (based on quantity sold). \n",
    "\n",
    "Submission: Please provide the commands along with any supporting documentation or explanations  regarding design choices and functionalities implemented in the report.\n",
    "\n",
    "____\n"
   ]
  },
  {
   "cell_type": "markdown",
   "id": "d60e0008-5d66-4b14-a020-d8ef531bc1e7",
   "metadata": {},
   "source": [
    "##### Coding & Report Generation"
   ]
  },
  {
   "cell_type": "code",
   "execution_count": 82,
   "id": "fb16045d-baa9-4174-ba1f-e2a1a0d82cdb",
   "metadata": {
    "tags": []
   },
   "outputs": [],
   "source": [
    "# Imports Needed\n",
    "\n",
    "import pandas as pd\n",
    "import matplotlib.pyplot as plt"
   ]
  },
  {
   "cell_type": "markdown",
   "id": "accdad35-db84-4cc7-86ec-d7440bfa18cb",
   "metadata": {},
   "source": [
    "###### * Explanation: We import the Pandas library, which is commonly used for data manipulation and analysis in Python. It provides data structures and functions for efficiently working with structured data, such as DataFrames. Matplotlib to create a visualization image to add to the final excel spreadsheet."
   ]
  },
  {
   "cell_type": "code",
   "execution_count": 83,
   "id": "b26d39fb-1834-4e7f-b77e-24660e3bd477",
   "metadata": {
    "tags": []
   },
   "outputs": [],
   "source": [
    "# Sample Data For Demonstration\n",
    "\n",
    "data = {\n",
    "    'Sale ID': [1, 2, 3],\n",
    "    'Sale Date': ['2023-01-05', '2023-01-07', '2023-01-10'],\n",
    "    'Product Name': ['Widget A', 'Widget C', 'Widget B'],\n",
    "    'Quantity Sold': [2, 1, 3],\n",
    "    'Amount': [120.50, 75.20, 180.00]\n",
    "}"
   ]
  },
  {
   "cell_type": "markdown",
   "id": "fe523e98-0d00-46a3-abc8-f904423a6152",
   "metadata": {
    "tags": []
   },
   "source": [
    "###### * Explanation: We create a dictionary data containing sample sales data. This data will be used to create a DataFrame for demonstration purposes. Each key in the dictionary represents a column in the DataFrame."
   ]
  },
  {
   "cell_type": "code",
   "execution_count": 84,
   "id": "2feda3c2-c269-40cc-945e-0ad1faf4005b",
   "metadata": {
    "tags": []
   },
   "outputs": [],
   "source": [
    "# Create DataFrame:\n",
    "\n",
    "sales_df = pd.DataFrame(data)"
   ]
  },
  {
   "cell_type": "markdown",
   "id": "3a2c2fac-86b4-417e-b129-39b470c8f2d1",
   "metadata": {
    "tags": []
   },
   "source": [
    "###### * Explanation: We use the pd.DataFrame() function to create a DataFrame sales_df from the sample data. This DataFrame will represent the sales information with columns such as Sale ID, Sale Date, Product Name, Quantity Sold, and Amount."
   ]
  },
  {
   "cell_type": "code",
   "execution_count": 85,
   "id": "43209faf-1a39-46a4-b9c7-31a986a2cfdb",
   "metadata": {
    "tags": []
   },
   "outputs": [],
   "source": [
    "# Group by Product Name and calculate total sales amount:\n",
    "\n",
    "total_sales_by_product = sales_df.groupby('Product Name')['Amount'].sum().reset_index()"
   ]
  },
  {
   "cell_type": "markdown",
   "id": "e737ef7f-76d5-4d8c-bef5-fe2a4907e0d4",
   "metadata": {
    "tags": []
   },
   "source": [
    "###### * Explanation: We use the groupby() function to group the DataFrame by 'Product Name'. Then, we calculate the sum of 'Amount' for each product using sum() and reset the index to make the DataFrame more reader-friendly."
   ]
  },
  {
   "cell_type": "code",
   "execution_count": 86,
   "id": "94bab08d-68b9-46ff-8993-14206d63ead9",
   "metadata": {
    "tags": []
   },
   "outputs": [],
   "source": [
    "# Find the highest selling product:\n",
    "\n",
    "highest_selling_product = total_sales_by_product.loc[total_sales_by_product['Amount'].idxmax()]"
   ]
  },
  {
   "cell_type": "markdown",
   "id": "c7fef4c9-dea5-42eb-9938-7a1a88bc0034",
   "metadata": {},
   "source": [
    "###### * Explanation: We use the idxmax() function to find the index of the row with the highest 'Amount' value. Then, we use loc[] to locate the corresponding row in the total_sales_by_product DataFrame, which represents the highest selling product."
   ]
  },
  {
   "cell_type": "code",
   "execution_count": 87,
   "id": "54279239-a09b-47dd-b8ff-df770f0b9f38",
   "metadata": {
    "tags": []
   },
   "outputs": [],
   "source": [
    "# Find the lowest selling product:\n",
    "\n",
    "lowest_selling_product = total_sales_by_product.loc[total_sales_by_product['Amount'].idxmin()]"
   ]
  },
  {
   "cell_type": "markdown",
   "id": "25ab1e28-5709-4ec2-bdda-e4029d75d821",
   "metadata": {},
   "source": [
    "###### * Explanation: Similar to finding the highest selling product, we use the idxmin() function to find the index of the row with the lowest 'Amount' value. Then, we use loc[] to locate the corresponding row in the total_sales_by_product DataFrame, which represents the lowest selling product."
   ]
  },
  {
   "cell_type": "code",
   "execution_count": 88,
   "id": "9e3e388b-42b5-4fe9-b154-29bcb421ae68",
   "metadata": {
    "tags": []
   },
   "outputs": [],
   "source": [
    "# Calculate total sales amount:\n",
    "\n",
    "total_sales_amount = sales_df['Amount'].sum()"
   ]
  },
  {
   "cell_type": "markdown",
   "id": "4b86f204-edef-4b38-9dc3-4e0b8475e1c7",
   "metadata": {
    "tags": []
   },
   "source": [
    "###### * Explanation: We calculate the total sales amount by summing the 'Amount' column in the sales_df DataFrame."
   ]
  },
  {
   "cell_type": "code",
   "execution_count": 89,
   "id": "70646e62-b8d4-4aeb-a864-3d7d2bd1d1cd",
   "metadata": {
    "tags": []
   },
   "outputs": [
    {
     "name": "stdout",
     "output_type": "stream",
     "text": [
      "Summary:\n",
      "Total sales amount: 375.7\n",
      "Highest selling product: Widget B Amount: 180.0\n",
      "Lowest selling product: Widget C Amount: 75.2\n"
     ]
    }
   ],
   "source": [
    "# Display the summary section:\n",
    "\n",
    "print(\"Summary:\")\n",
    "print(\"Total sales amount:\", total_sales_amount)\n",
    "print(\"Highest selling product:\", highest_selling_product['Product Name'], \"Amount:\", highest_selling_product['Amount'])\n",
    "print(\"Lowest selling product:\", lowest_selling_product['Product Name'], \"Amount:\", lowest_selling_product['Amount'])\n"
   ]
  },
  {
   "cell_type": "markdown",
   "id": "9d28ba26-ad6f-4511-ac5c-07c09db45d8a",
   "metadata": {},
   "source": [
    "###### * Explanation: We print the summary section to the console, displaying the total sales amount, highest selling product and its amount, and lowest selling product and its amount."
   ]
  },
  {
   "cell_type": "code",
   "execution_count": 90,
   "id": "865bc310-690e-46ec-8129-32e98abbfbcd",
   "metadata": {
    "tags": []
   },
   "outputs": [],
   "source": [
    "# Save DataFrame to CSV file:\n",
    "\n",
    "sales_df.to_csv('sales_report.csv', index=False)"
   ]
  },
  {
   "cell_type": "markdown",
   "id": "032fc9ec-af01-4f18-af8f-4c043178dbf8",
   "metadata": {},
   "source": [
    "###### * Explanation: We save the sales_df DataFrame to a CSV file named 'sales_report.csv' using the to_csv() function. Setting index=False ensures that the row index is not included in the CSV file, which makes it more reader-friendly."
   ]
  },
  {
   "cell_type": "code",
   "execution_count": 91,
   "id": "46e1f588-ae13-4606-a000-866200ee4e05",
   "metadata": {
    "tags": []
   },
   "outputs": [],
   "source": [
    "# Calculate total sales amount\n",
    "total_sales_amount = sales_df['Amount'].sum()\n",
    "\n",
    "# Find the highest selling product\n",
    "highest_selling_product = total_sales_by_product.loc[total_sales_by_product['Amount'].idxmax()]\n",
    "\n",
    "# Find the lowest selling product\n",
    "lowest_selling_product = total_sales_by_product.loc[total_sales_by_product['Amount'].idxmin()]\n",
    "\n",
    "# Create a DataFrame for the summary section\n",
    "summary_df = pd.DataFrame({\n",
    "    'Metric': ['Total Sales Amount', 'Highest Selling Product', 'Lowest Selling Product'],\n",
    "    'Value': [total_sales_amount, highest_selling_product['Amount'], lowest_selling_product['Amount']]\n",
    "})\n",
    "\n",
    "# Append the summary DataFrame to the sales DataFrame\n",
    "sales_summary_df = pd.concat([sales_df, summary_df])\n",
    "\n",
    "# Save DataFrame to CSV file\n",
    "sales_summary_df.to_csv('sales_report.csv', index=False)"
   ]
  },
  {
   "cell_type": "markdown",
   "id": "092b53a8-b690-4afe-a226-4a2b849cf808",
   "metadata": {
    "tags": []
   },
   "source": [
    "###### * Explanation:\n",
    "###### We calculate the total sales amount, find the highest selling product, and find the lowest selling product as before.\n",
    "###### We create a new DataFrame summary_df containing the summary information, including the total sales amount, highest selling product, and lowest selling product.\n",
    "###### We concatenate the summary_df with the original sales_df DataFrame to create a new DataFrame sales_summary_df that includes both the sales data and the summary information.\n",
    "###### Finally, we save the sales_summary_df DataFrame to a CSV file named 'sales_report.csv'. This CSV file will now include the summary section along with the sales data."
   ]
  },
  {
   "cell_type": "code",
   "execution_count": 95,
   "id": "0dc77645-9563-4d4e-b05d-6eac5aec00fc",
   "metadata": {},
   "outputs": [
    {
     "data": {
      "image/png": "[encoded data removed]",
      "text/plain": [
       "<Figure size 1000x600 with 1 Axes>"
      ]
     },
     "metadata": {},
     "output_type": "display_data"
    }
   ],
   "source": [
    "# Group sales data by product name and calculate total sales amount for each product\n",
    "total_sales_by_product = sales_df.groupby('Product Name')['Amount'].sum().reset_index()\n",
    "\n",
    "# Plotting\n",
    "plt.figure(figsize=(10, 6))\n",
    "plt.bar(total_sales_by_product['Product Name'], total_sales_by_product['Amount'], color='skyblue')\n",
    "plt.title('Total Sales Amount by Product')\n",
    "plt.xlabel('Product Name')\n",
    "plt.ylabel('Total Sales Amount ($)')\n",
    "plt.xticks(rotation=45)\n",
    "plt.tight_layout()\n",
    "\n",
    "# Save image \n",
    "plt.savefig('total_sales_by_product.png')\n",
    "\n",
    "# Show plot\n",
    "plt.show()"
   ]
  },
  {
   "cell_type": "markdown",
   "id": "32bd228c-6533-4c7b-a616-cee0dfaa2e21",
   "metadata": {},
   "source": [
    "###### * Explanation:\n",
    "\n",
    "###### We group the sales data by the 'Product Category' column and calculate the total sales amount for each category using the groupby() function and sum() method.\n",
    "\n",
    "###### We then create a bar plot using Matplotlib, where the x-axis represents the product categories and the y-axis represents the total sales amount.\n",
    "\n",
    "###### The plt.bar() function is used to create the bar plot with the specified x and y values. We customize the plot by setting the color, title, x-label, y-label, and rotating the x-axis labels for better readability.\n",
    "\n",
    "###### Finally, we display the plot using the plt.show() function.\n",
    "\n",
    "###### This code will generate a bar plot showing the total sales amount for each product category based on the sales data. You can further customize the plot according to your preferences and requirements."
   ]
  },
  {
   "cell_type": "code",
   "execution_count": null,
   "id": "72cea202-6788-446e-a859-2de74e28f12e",
   "metadata": {},
   "outputs": [],
   "source": []
  }
 ],
 "metadata": {
  "kernelspec": {
   "display_name": "Python 3 (ipykernel)",
   "language": "python",
   "name": "python3"
  },
  "language_info": {
   "codemirror_mode": {
    "name": "ipython",
    "version": 3
   },
   "file_extension": ".py",
   "mimetype": "text/x-python",
   "name": "python",
   "nbconvert_exporter": "python",
   "pygments_lexer": "ipython3",
   "version": "3.11.5"
  }
 },
 "nbformat": 4,
 "nbformat_minor": 5
}
